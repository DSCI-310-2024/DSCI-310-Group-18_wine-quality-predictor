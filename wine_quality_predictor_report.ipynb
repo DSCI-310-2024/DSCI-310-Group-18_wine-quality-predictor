{
 "cells": [
  {
   "cell_type": "markdown",
   "id": "0b8ad674-3b98-487f-a0fa-805274817be1",
   "metadata": {},
   "source": [
    "# Predicting Wine Quality Score"
   ]
  },
  {
   "cell_type": "markdown",
   "id": "62653c59-3ef0-4c39-b835-3fb19e240575",
   "metadata": {},
   "source": [
    "**Authors**: Xander Dawson, Zackarya Hamza, Sid Ahuja"
   ]
  },
  {
   "cell_type": "code",
   "execution_count": 7,
   "id": "d2f81223-05ba-4ad9-a76d-12de0312791e",
   "metadata": {},
   "outputs": [],
   "source": [
    "library(tidyverse, quietly = TRUE)\n",
    "library(tidymodels, quietly = TRUE)\n",
    "# add any used packages here and delete this line before submitting report"
   ]
  },
  {
   "cell_type": "markdown",
   "id": "ee0cdac3-fe59-4b97-9ab0-76ae4aff17a3",
   "metadata": {},
   "source": [
    "## Summary"
   ]
  },
  {
   "cell_type": "markdown",
   "id": "bbed2d1c-4d9b-4682-89d1-964b2ee9fc2e",
   "metadata": {},
   "source": [
    "blank"
   ]
  },
  {
   "cell_type": "markdown",
   "id": "aa9a8240-2df4-4330-8d5e-b82898ce284e",
   "metadata": {},
   "source": [
    "## Introduction"
   ]
  },
  {
   "cell_type": "markdown",
   "id": "01b6e522-e515-42dc-848c-e77fcc22faea",
   "metadata": {},
   "source": [
    "blank"
   ]
  },
  {
   "cell_type": "markdown",
   "id": "ca7f4fef-e3da-41c9-8593-d4412afc9bbb",
   "metadata": {},
   "source": [
    "## Methods and Results"
   ]
  },
  {
   "cell_type": "markdown",
   "id": "565200c0-a17c-4878-b8e1-a5794da7ace1",
   "metadata": {},
   "source": [
    "### Data"
   ]
  },
  {
   "cell_type": "markdown",
   "id": "3de804a1-4838-4d2f-bd74-ddcb0fb86774",
   "metadata": {},
   "source": [
    "Discuss Data Here"
   ]
  },
  {
   "cell_type": "markdown",
   "id": "dcea4da2-d283-46ec-9150-2230a5149ba2",
   "metadata": {},
   "source": [
    "### Analysis"
   ]
  },
  {
   "cell_type": "markdown",
   "id": "19a4a8f4-36d0-4817-8cfd-b35eb65341b4",
   "metadata": {},
   "source": [
    "Discuss analysis methods here"
   ]
  },
  {
   "cell_type": "code",
   "execution_count": 2,
   "id": "dd5e08c7-a627-482e-ac6c-e2c2db3dd522",
   "metadata": {},
   "outputs": [],
   "source": [
    "# data downloaded as zip from UCI Machine Learning Repository and unzipped file is moved to /data\n",
    "url <- \"https://archive.ics.uci.edu/static/public/186/wine+quality.zip\"\n",
    "temp <- tempfile()\n",
    "download.file(url, temp)\n",
    "unzip(temp, exdir = \"./data/raw\")"
   ]
  },
  {
   "cell_type": "code",
   "execution_count": 3,
   "id": "847bc493-c597-4d23-a837-1e1c86de7bea",
   "metadata": {},
   "outputs": [
    {
     "data": {
      "text/html": [
       "<table class=\"dataframe\">\n",
       "<caption>A tibble: 6 × 12</caption>\n",
       "<thead>\n",
       "\t<tr><th scope=col>fixed_acidity</th><th scope=col>volatile_acidity</th><th scope=col>citric_acid</th><th scope=col>residual_sugar</th><th scope=col>chlorides</th><th scope=col>free_sulfur_dioxide</th><th scope=col>total_sulfur_dioxide</th><th scope=col>density</th><th scope=col>pH</th><th scope=col>sulphates</th><th scope=col>alcohol</th><th scope=col>quality_category</th></tr>\n",
       "\t<tr><th scope=col>&lt;dbl&gt;</th><th scope=col>&lt;dbl&gt;</th><th scope=col>&lt;dbl&gt;</th><th scope=col>&lt;dbl&gt;</th><th scope=col>&lt;dbl&gt;</th><th scope=col>&lt;dbl&gt;</th><th scope=col>&lt;dbl&gt;</th><th scope=col>&lt;dbl&gt;</th><th scope=col>&lt;dbl&gt;</th><th scope=col>&lt;dbl&gt;</th><th scope=col>&lt;dbl&gt;</th><th scope=col>&lt;chr&gt;</th></tr>\n",
       "</thead>\n",
       "<tbody>\n",
       "\t<tr><td>7.0</td><td>0.27</td><td>0.36</td><td>20.7</td><td>0.045</td><td>45</td><td>170</td><td>1.0010</td><td>3.00</td><td>0.45</td><td> 8.8</td><td>average</td></tr>\n",
       "\t<tr><td>6.3</td><td>0.30</td><td>0.34</td><td> 1.6</td><td>0.049</td><td>14</td><td>132</td><td>0.9940</td><td>3.30</td><td>0.49</td><td> 9.5</td><td>average</td></tr>\n",
       "\t<tr><td>8.1</td><td>0.28</td><td>0.40</td><td> 6.9</td><td>0.050</td><td>30</td><td> 97</td><td>0.9951</td><td>3.26</td><td>0.44</td><td>10.1</td><td>average</td></tr>\n",
       "\t<tr><td>7.2</td><td>0.23</td><td>0.32</td><td> 8.5</td><td>0.058</td><td>47</td><td>186</td><td>0.9956</td><td>3.19</td><td>0.40</td><td> 9.9</td><td>average</td></tr>\n",
       "\t<tr><td>7.2</td><td>0.23</td><td>0.32</td><td> 8.5</td><td>0.058</td><td>47</td><td>186</td><td>0.9956</td><td>3.19</td><td>0.40</td><td> 9.9</td><td>average</td></tr>\n",
       "\t<tr><td>8.1</td><td>0.28</td><td>0.40</td><td> 6.9</td><td>0.050</td><td>30</td><td> 97</td><td>0.9951</td><td>3.26</td><td>0.44</td><td>10.1</td><td>average</td></tr>\n",
       "</tbody>\n",
       "</table>\n"
      ],
      "text/latex": [
       "A tibble: 6 × 12\n",
       "\\begin{tabular}{llllllllllll}\n",
       " fixed\\_acidity & volatile\\_acidity & citric\\_acid & residual\\_sugar & chlorides & free\\_sulfur\\_dioxide & total\\_sulfur\\_dioxide & density & pH & sulphates & alcohol & quality\\_category\\\\\n",
       " <dbl> & <dbl> & <dbl> & <dbl> & <dbl> & <dbl> & <dbl> & <dbl> & <dbl> & <dbl> & <dbl> & <chr>\\\\\n",
       "\\hline\n",
       "\t 7.0 & 0.27 & 0.36 & 20.7 & 0.045 & 45 & 170 & 1.0010 & 3.00 & 0.45 &  8.8 & average\\\\\n",
       "\t 6.3 & 0.30 & 0.34 &  1.6 & 0.049 & 14 & 132 & 0.9940 & 3.30 & 0.49 &  9.5 & average\\\\\n",
       "\t 8.1 & 0.28 & 0.40 &  6.9 & 0.050 & 30 &  97 & 0.9951 & 3.26 & 0.44 & 10.1 & average\\\\\n",
       "\t 7.2 & 0.23 & 0.32 &  8.5 & 0.058 & 47 & 186 & 0.9956 & 3.19 & 0.40 &  9.9 & average\\\\\n",
       "\t 7.2 & 0.23 & 0.32 &  8.5 & 0.058 & 47 & 186 & 0.9956 & 3.19 & 0.40 &  9.9 & average\\\\\n",
       "\t 8.1 & 0.28 & 0.40 &  6.9 & 0.050 & 30 &  97 & 0.9951 & 3.26 & 0.44 & 10.1 & average\\\\\n",
       "\\end{tabular}\n"
      ],
      "text/markdown": [
       "\n",
       "A tibble: 6 × 12\n",
       "\n",
       "| fixed_acidity &lt;dbl&gt; | volatile_acidity &lt;dbl&gt; | citric_acid &lt;dbl&gt; | residual_sugar &lt;dbl&gt; | chlorides &lt;dbl&gt; | free_sulfur_dioxide &lt;dbl&gt; | total_sulfur_dioxide &lt;dbl&gt; | density &lt;dbl&gt; | pH &lt;dbl&gt; | sulphates &lt;dbl&gt; | alcohol &lt;dbl&gt; | quality_category &lt;chr&gt; |\n",
       "|---|---|---|---|---|---|---|---|---|---|---|---|\n",
       "| 7.0 | 0.27 | 0.36 | 20.7 | 0.045 | 45 | 170 | 1.0010 | 3.00 | 0.45 |  8.8 | average |\n",
       "| 6.3 | 0.30 | 0.34 |  1.6 | 0.049 | 14 | 132 | 0.9940 | 3.30 | 0.49 |  9.5 | average |\n",
       "| 8.1 | 0.28 | 0.40 |  6.9 | 0.050 | 30 |  97 | 0.9951 | 3.26 | 0.44 | 10.1 | average |\n",
       "| 7.2 | 0.23 | 0.32 |  8.5 | 0.058 | 47 | 186 | 0.9956 | 3.19 | 0.40 |  9.9 | average |\n",
       "| 7.2 | 0.23 | 0.32 |  8.5 | 0.058 | 47 | 186 | 0.9956 | 3.19 | 0.40 |  9.9 | average |\n",
       "| 8.1 | 0.28 | 0.40 |  6.9 | 0.050 | 30 |  97 | 0.9951 | 3.26 | 0.44 | 10.1 | average |\n",
       "\n"
      ],
      "text/plain": [
       "  fixed_acidity volatile_acidity citric_acid residual_sugar chlorides\n",
       "1 7.0           0.27             0.36        20.7           0.045    \n",
       "2 6.3           0.30             0.34         1.6           0.049    \n",
       "3 8.1           0.28             0.40         6.9           0.050    \n",
       "4 7.2           0.23             0.32         8.5           0.058    \n",
       "5 7.2           0.23             0.32         8.5           0.058    \n",
       "6 8.1           0.28             0.40         6.9           0.050    \n",
       "  free_sulfur_dioxide total_sulfur_dioxide density pH   sulphates alcohol\n",
       "1 45                  170                  1.0010  3.00 0.45       8.8   \n",
       "2 14                  132                  0.9940  3.30 0.49       9.5   \n",
       "3 30                   97                  0.9951  3.26 0.44      10.1   \n",
       "4 47                  186                  0.9956  3.19 0.40       9.9   \n",
       "5 47                  186                  0.9956  3.19 0.40       9.9   \n",
       "6 30                   97                  0.9951  3.26 0.44      10.1   \n",
       "  quality_category\n",
       "1 average         \n",
       "2 average         \n",
       "3 average         \n",
       "4 average         \n",
       "5 average         \n",
       "6 average         "
      ]
     },
     "metadata": {},
     "output_type": "display_data"
    }
   ],
   "source": [
    "# preprocessing data\n",
    "# read csv file and replace column header\n",
    "white_wine <- read_delim(\"data/raw/winequality-white.csv\", delim = \";\", show_col_types = FALSE)\n",
    "colnames(white_wine) <- c(\"fixed_acidity\", \"volatile_acidity\", \"citric_acid\", \"residual_sugar\", \n",
    "                          \"chlorides\", \"free_sulfur_dioxide\", \"total_sulfur_dioxide\", \"density\", \n",
    "                          \"pH\", \"sulphates\", \"alcohol\", \"quality_score\")\n",
    "\n",
    "# changing quality_score to quality_category\n",
    "white_wine <- white_wine %>% \n",
    "    mutate(quality_category = case_when(\n",
    "        quality_score <= 3 ~ \"poor\",\n",
    "        quality_score <= 7 ~ \"average\",\n",
    "        quality_score <= 10 ~ \"excellent\")) %>%\n",
    "    select(-quality_score)\n",
    "\n",
    "head(white_wine)"
   ]
  },
  {
   "cell_type": "code",
   "execution_count": 4,
   "id": "cc7aa378-d6bc-4d93-875b-49358a953575",
   "metadata": {},
   "outputs": [],
   "source": [
    "# creating the train, test and cross-validation splits\n",
    "set.seed(123)\n",
    "wine_split <- initial_split(white_wine, prop = 0.70, strata = quality_category)\n",
    "wine_train <- training(wine_split)\n",
    "wine_test <- testing(wine_split)\n",
    "\n",
    "write_csv(wine_train, \"data/processed/white_wine_train.csv\")\n",
    "write_csv(wine_test, \"data/processed/white_wine_test.csv\")\n",
    "\n",
    "wine_vfold <- vfold_cv(wine_train, v = 5, strata = quality_category)"
   ]
  },
  {
   "cell_type": "code",
   "execution_count": 5,
   "id": "609155e8-ae96-4a8c-ad7b-9b074dc2de68",
   "metadata": {},
   "outputs": [],
   "source": [
    "# feature scaling recipe\n",
    "wine_preprocess_recipe <- recipe(quality_category ~ ., data = wine_train) %>%\n",
    "    step_scale(all_predictors()) %>%\n",
    "    step_center(all_predictors())\n",
    "\n",
    "prep_preprocess_recipe <- prep(wine_preprocess_recipe, training = wine_train)\n",
    "\n",
    "scaled_wine_train <- bake(prep_preprocess_recipe, new_data = wine_train)\n",
    "scaled_wine_test <- bake(prep_preprocess_recipe, new_data = wine_test)\n",
    "\n",
    "write_csv(scaled_wine_train, \"data/processed/scaled_white_wine_train.csv\")\n",
    "write_csv(scaled_wine_test, \"data/processed/scaled_white_wine_test.csv\")\n",
    "\n",
    "# note for model training"
   ]
  },
  {
   "cell_type": "code",
   "execution_count": 6,
   "id": "dc5fbd4d-aa27-42ba-84d6-46c5914f4699",
   "metadata": {},
   "outputs": [],
   "source": [
    "# note for model training: use wine_preprocess_recipe (don't use prep_preprocess_recipe)"
   ]
  },
  {
   "cell_type": "code",
   "execution_count": null,
   "id": "c6927ad5-0acd-41f8-9d2e-61f884fe2a71",
   "metadata": {},
   "outputs": [],
   "source": []
  },
  {
   "cell_type": "markdown",
   "id": "17ff6539-27f4-45f2-8302-685cbf5c545d",
   "metadata": {},
   "source": [
    "## Discussion"
   ]
  },
  {
   "cell_type": "markdown",
   "id": "c02f2f49-cd2a-4201-b516-039cfb61b260",
   "metadata": {},
   "source": [
    "blank"
   ]
  },
  {
   "cell_type": "markdown",
   "id": "90fbe0b7-e145-4b48-92a1-f83724b8b303",
   "metadata": {},
   "source": [
    "## References"
   ]
  },
  {
   "cell_type": "markdown",
   "id": "df1b7abb-c877-4556-b04f-5e21102cbfdf",
   "metadata": {},
   "source": [
    "blank"
   ]
  }
 ],
 "metadata": {
  "kernelspec": {
   "display_name": "R",
   "language": "R",
   "name": "ir"
  },
  "language_info": {
   "codemirror_mode": "r",
   "file_extension": ".r",
   "mimetype": "text/x-r-source",
   "name": "R",
   "pygments_lexer": "r",
   "version": "4.3.1"
  }
 },
 "nbformat": 4,
 "nbformat_minor": 5
}
