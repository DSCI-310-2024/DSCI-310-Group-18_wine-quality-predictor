{
 "cells": [
  {
   "cell_type": "markdown",
   "id": "0b8ad674-3b98-487f-a0fa-805274817be1",
   "metadata": {},
   "source": [
    "# Title: Predicting Wine Quality Score"
   ]
  },
  {
   "cell_type": "markdown",
   "id": "ee0cdac3-fe59-4b97-9ab0-76ae4aff17a3",
   "metadata": {},
   "source": [
    "## Summary"
   ]
  },
  {
   "cell_type": "markdown",
   "id": "bbed2d1c-4d9b-4682-89d1-964b2ee9fc2e",
   "metadata": {},
   "source": [
    "blank"
   ]
  },
  {
   "cell_type": "markdown",
   "id": "aa9a8240-2df4-4330-8d5e-b82898ce284e",
   "metadata": {},
   "source": [
    "## Introduction"
   ]
  },
  {
   "cell_type": "markdown",
   "id": "01b6e522-e515-42dc-848c-e77fcc22faea",
   "metadata": {},
   "source": [
    "blank"
   ]
  },
  {
   "cell_type": "markdown",
   "id": "ca7f4fef-e3da-41c9-8593-d4412afc9bbb",
   "metadata": {},
   "source": [
    "## Methods and Results"
   ]
  },
  {
   "cell_type": "markdown",
   "id": "16e8dd3b-bc49-4787-8511-ff832980f2e6",
   "metadata": {},
   "source": [
    "blank"
   ]
  },
  {
   "cell_type": "markdown",
   "id": "17ff6539-27f4-45f2-8302-685cbf5c545d",
   "metadata": {},
   "source": [
    "## Discussion"
   ]
  },
  {
   "cell_type": "markdown",
   "id": "c02f2f49-cd2a-4201-b516-039cfb61b260",
   "metadata": {},
   "source": [
    "blank"
   ]
  },
  {
   "cell_type": "markdown",
   "id": "90fbe0b7-e145-4b48-92a1-f83724b8b303",
   "metadata": {},
   "source": [
    "## References"
   ]
  },
  {
   "cell_type": "markdown",
   "id": "df1b7abb-c877-4556-b04f-5e21102cbfdf",
   "metadata": {},
   "source": [
    "blank"
   ]
  }
 ],
 "metadata": {
  "kernelspec": {
   "display_name": "R",
   "language": "R",
   "name": "ir"
  },
  "language_info": {
   "codemirror_mode": "r",
   "file_extension": ".r",
   "mimetype": "text/x-r-source",
   "name": "R",
   "pygments_lexer": "r",
   "version": "4.3.2"
  }
 },
 "nbformat": 4,
 "nbformat_minor": 5
}
